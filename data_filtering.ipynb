{
 "cells": [
  {
   "cell_type": "code",
   "execution_count": 1,
   "id": "8351ee4e-abb3-4034-b890-1e939235a09d",
   "metadata": {},
   "outputs": [],
   "source": [
    "import os\n",
    "from datetime import datetime as dt \n",
    "import pandas as pd\n",
    "import numpy as np\n",
    "import time\n",
    "import matplotlib.pyplot as plt\n",
    "import seaborn as sns\n",
    "import duckdb\n",
    "import matplotlib.dates as mdates"
   ]
  },
  {
   "cell_type": "code",
   "execution_count": 2,
   "id": "a8777eac-d2b3-44c2-9e55-2960f7e7fcf1",
   "metadata": {},
   "outputs": [],
   "source": [
    "current_path = os.getcwd()\n",
    "# source: https://www.kaggle.com/datasets/muhmores/spotify-top-100-songs-of-20152019/discussion?sort=hotness\n",
    "data3 = pd.read_csv(current_path + \"/spotify-2010-2019.csv\")"
   ]
  },
  {
   "cell_type": "code",
   "execution_count": 4,
   "id": "147518ae-8b1d-4a27-9614-d58be49920bd",
   "metadata": {},
   "outputs": [
    {
     "data": {
      "text/plain": [
       "['title',\n",
       " 'artist',\n",
       " 'top genre',\n",
       " 'year released',\n",
       " 'added',\n",
       " 'bpm',\n",
       " 'nrgy',\n",
       " 'dnce',\n",
       " 'dB',\n",
       " 'live',\n",
       " 'val',\n",
       " 'dur',\n",
       " 'acous',\n",
       " 'spch',\n",
       " 'pop',\n",
       " 'top year',\n",
       " 'artist type']"
      ]
     },
     "execution_count": 4,
     "metadata": {},
     "output_type": "execute_result"
    }
   ],
   "source": [
    "data3.columns.values.tolist() "
   ]
  },
  {
   "cell_type": "code",
   "execution_count": 5,
   "id": "b7402f88-de1e-41da-80bb-2e027a7330a2",
   "metadata": {},
   "outputs": [],
   "source": [
    "data3 = data3.iloc[:-3]\n",
    "# the last 3 rows were NaNs "
   ]
  },
  {
   "cell_type": "code",
   "execution_count": 8,
   "id": "6fe99498-2bb4-41f2-8419-fa665f25cfec",
   "metadata": {},
   "outputs": [],
   "source": [
    "data3['year released'] = data3['year released'].astype(int)\n",
    "data3['top year'] = data3['top year'].astype(int)\n",
    "# Converting them to ints as they were floats previously"
   ]
  },
  {
   "cell_type": "code",
   "execution_count": 11,
   "id": "ed655ca6-6571-4b4a-9c4c-b1faf3e2feb8",
   "metadata": {},
   "outputs": [],
   "source": [
    "genre_mapping = {\n",
    "    'pop': [\n",
    "        'pop', 'pop soul', 'bedroom pop', 'colombian pop', 'acoustic pop', 'indie pop', 'art pop', 'baroque pop', \n",
    "        'austrian pop', 'irish pop', 'french indie pop', 'german pop', 'canadian pop', 'danish pop', 'social media pop',\n",
    "        'bubblegum dance', 'candy pop', 'barbadian pop', 'israeli pop', 'belgian pop', 'australian pop', \n",
    "    ],\n",
    "    'hip hop': [\n",
    "        'hip hop', 'atl hip hop', 'detroit hip hop', 'asian american hip hop', 'east coast hip hop', 'canadian hip hop', \n",
    "        'uk hip hop', 'conscious hip hop', 'gangster rap', 'australian hip hop', 'new jersey rap', 'ghanaian hip hop', \n",
    "        'melodic rap', 'chicago rap', 'london rap', 'florida rap', 'emo rap', 'kentucky hip hop', 'dfw rap', \n",
    "        'hawaiian hip hop', 'dirty south rap', 'memphis hip hop', 'north carolina hip hop', 'nyc rap', 'uk drill', \n",
    "        'lgbtq+ hip hop', 'dutch hip hop','argentine hip hop','ohio hip hop'\n",
    "    ],\n",
    "    'rock': [\n",
    "        'modern alternative rock', 'indie rock', 'garage rock', 'alternative rock', 'classic rock', 'celtic rock',\n",
    "        'alternative metal', 'modern rock'\n",
    "    ],\n",
    "    'r&b': ['alternative r&b', 'contemporary r&b', 'neo soul', 'canadian contemporary r&b'],\n",
    "    'electronic': [\n",
    "        'edm', 'big room', 'disco house', 'romanian house', 'deep house', 'bass trap', 'electro', 'deep disco house', 'bubblegum dance',\n",
    "        'electropop', 'destroy techno', 'complextro', 'electro house','house'\n",
    "    ],\n",
    "    'rap': ['rap', 'comedy rap', 'cali rap', 'social media pop', 'alt z'],\n",
    "    'indie': [\n",
    "        'indietronica', 'aussietronica', 'icelandic indie', 'canadian indie', 'indie folk', 'eau claire indie', 'indie poptimism', \n",
    "        'indie pop rap', 'australian indie', 'la indie', 'new french touch'\n",
    "    ],\n",
    "    'dance': [\n",
    "        'dance pop', 'modern folk rock', 'dancefloor dnb', 'alternative dance', 'downtempo', 'tropical house', 'chill pop'\n",
    "    ],\n",
    "    'folk': ['neo mellow', 'folk-pop', 'modern folk rock'],\n",
    "    'house': ['deep groove house', 'dutch house', 'tropical house'],\n",
    "    'soul': ['british soul', 'pop soul'],\n",
    "    'country': ['contemporary country', 'boy band'],\n",
    "    'latin': ['latin'],\n",
    "    'grime': ['grime', 'afroswing'],\n",
    "    'afrofuturism': ['afrofuturism', 'afro dancehall'],\n",
    "    'dark clubbing': ['dark clubbing'],\n",
    "    'reggae fusion': ['reggae fusion'],\n",
    "    'comic': ['comic'],\n",
    "    'black americana': ['black americana'],\n",
    "    'idol': ['idol'],\n",
    "    'talent show': ['talent show'],\n",
    "    'hollywood': ['hollywood']\n",
    "}\n",
    "# the goal is to reduce the number of genres and justifiably inflate the size of parent genres"
   ]
  },
  {
   "cell_type": "code",
   "execution_count": 7,
   "id": "5d8055d4-c0eb-4800-91f3-cebd90f7fc98",
   "metadata": {},
   "outputs": [],
   "source": [
    "current_genre = data3['top genre'].unique()"
   ]
  },
  {
   "cell_type": "code",
   "execution_count": 9,
   "id": "2eb9998b-6302-4aea-b111-4e361ae3b1c2",
   "metadata": {},
   "outputs": [
    {
     "data": {
      "text/plain": [
       "132"
      ]
     },
     "execution_count": 9,
     "metadata": {},
     "output_type": "execute_result"
    }
   ],
   "source": [
    "len(current_genre)"
   ]
  },
  {
   "cell_type": "code",
   "execution_count": 12,
   "id": "a92ae5e6-6c20-4b29-9021-9eb6f198ad0a",
   "metadata": {},
   "outputs": [],
   "source": [
    "def replace_genres(genre, mapping):\n",
    "    for key, values in mapping.items():\n",
    "        if genre in values:\n",
    "            return key\n",
    "    return genre  \n",
    "\n",
    "data3['top genre'] = data3['top genre'].apply(lambda x: replace_genres(x, genre_mapping))\n",
    "\n",
    "# mapping of genres"
   ]
  },
  {
   "cell_type": "code",
   "execution_count": 14,
   "id": "51634d14-3007-4a4a-ae46-10bc8df076fc",
   "metadata": {},
   "outputs": [
    {
     "data": {
      "text/plain": [
       "39"
      ]
     },
     "execution_count": 14,
     "metadata": {},
     "output_type": "execute_result"
    }
   ],
   "source": [
    "new_genres = data3['top genre'].unique()\n",
    "len(new_genres)"
   ]
  },
  {
   "cell_type": "code",
   "execution_count": 12,
   "id": "5a681cd0-fa0d-4b44-9716-c26c6dfba93d",
   "metadata": {},
   "outputs": [],
   "source": [
    "genre_counts = data3['top genre'].value_counts()\n",
    "\n",
    "# getting the valid genres with equal to or more than 10 songs\n",
    "valid_genres = genre_counts[genre_counts >= 10].index\n",
    "\n",
    "# filtering those out with less than 10 songs\n",
    "filtered_data = data3[data3['top genre'].isin(valid_genres)]"
   ]
  },
  {
   "cell_type": "code",
   "execution_count": 13,
   "id": "c6191654-b44f-4b8a-a443-03482c962082",
   "metadata": {},
   "outputs": [
    {
     "name": "stdout",
     "output_type": "stream",
     "text": [
      "top genre\n",
      "dance         373\n",
      "hip hop       180\n",
      "pop           152\n",
      "electronic     53\n",
      "rock           39\n",
      "country        35\n",
      "indie          23\n",
      "folk           19\n",
      "r&b            18\n",
      "rap            14\n",
      "grime          10\n",
      "latin          10\n",
      "Name: count, dtype: int64\n"
     ]
    }
   ],
   "source": [
    "genre_counts = filtered_data['top genre'].value_counts()\n",
    "print(genre_counts)"
   ]
  },
  {
   "cell_type": "code",
   "execution_count": 18,
   "id": "b26cc50d-4fe6-419f-ad9e-0c83a7f8be7e",
   "metadata": {},
   "outputs": [
    {
     "name": "stderr",
     "output_type": "stream",
     "text": [
      "/var/folders/5d/08v816wn261ctmm7jzly1z6w0000gn/T/ipykernel_57895/1252915342.py:1: SettingWithCopyWarning: \n",
      "A value is trying to be set on a copy of a slice from a DataFrame\n",
      "\n",
      "See the caveats in the documentation: https://pandas.pydata.org/pandas-docs/stable/user_guide/indexing.html#returning-a-view-versus-a-copy\n",
      "  filtered_data.rename(columns={\"top genre\": \"top-genre\"}, inplace=True)\n"
     ]
    }
   ],
   "source": [
    "filtered_data.rename(columns={\"top genre\": \"top-genre\"}, inplace=True)"
   ]
  },
  {
   "cell_type": "code",
   "execution_count": null,
   "id": "ea32e3f1-b2cc-47cc-93d3-bda0f943f04d",
   "metadata": {},
   "outputs": [],
   "source": [
    "data3.to_csv(current_path + '/filtered.csv') "
   ]
  }
 ],
 "metadata": {
  "kernelspec": {
   "display_name": "Python 3 (ipykernel)",
   "language": "python",
   "name": "python3"
  },
  "language_info": {
   "codemirror_mode": {
    "name": "ipython",
    "version": 3
   },
   "file_extension": ".py",
   "mimetype": "text/x-python",
   "name": "python",
   "nbconvert_exporter": "python",
   "pygments_lexer": "ipython3",
   "version": "3.11.5"
  }
 },
 "nbformat": 4,
 "nbformat_minor": 5
}
