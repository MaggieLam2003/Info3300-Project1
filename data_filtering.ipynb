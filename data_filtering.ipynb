{
 "cells": [
  {
   "cell_type": "code",
   "execution_count": 4,
   "id": "8351ee4e-abb3-4034-b890-1e939235a09d",
   "metadata": {},
   "outputs": [],
   "source": [
    "import os\n",
    "from datetime import datetime as dt \n",
    "import pandas as pd\n",
    "import numpy as np\n",
    "import time\n",
    "import matplotlib.pyplot as plt\n",
    "import seaborn as sns\n",
    "import duckdb\n",
    "import matplotlib.dates as mdates"
   ]
  },
  {
   "cell_type": "code",
   "execution_count": 5,
   "id": "a8777eac-d2b3-44c2-9e55-2960f7e7fcf1",
   "metadata": {},
   "outputs": [],
   "source": [
    "current_path = os.getcwd()\n",
    "# source: https://www.kaggle.com/datasets/muhmores/spotify-top-100-songs-of-20152019/discussion?sort=hotness\n",
    "data3 = pd.read_csv(current_path + \"/spotify-2010-2019.csv\")"
   ]
  },
  {
   "cell_type": "code",
   "execution_count": 6,
   "id": "147518ae-8b1d-4a27-9614-d58be49920bd",
   "metadata": {},
   "outputs": [
    {
     "data": {
      "text/html": [
       "<div>\n",
       "<style scoped>\n",
       "    .dataframe tbody tr th:only-of-type {\n",
       "        vertical-align: middle;\n",
       "    }\n",
       "\n",
       "    .dataframe tbody tr th {\n",
       "        vertical-align: top;\n",
       "    }\n",
       "\n",
       "    .dataframe thead th {\n",
       "        text-align: right;\n",
       "    }\n",
       "</style>\n",
       "<table border=\"1\" class=\"dataframe\">\n",
       "  <thead>\n",
       "    <tr style=\"text-align: right;\">\n",
       "      <th></th>\n",
       "      <th>title</th>\n",
       "      <th>artist</th>\n",
       "      <th>top genre</th>\n",
       "      <th>year released</th>\n",
       "      <th>added</th>\n",
       "      <th>bpm</th>\n",
       "      <th>nrgy</th>\n",
       "      <th>dnce</th>\n",
       "      <th>dB</th>\n",
       "      <th>live</th>\n",
       "      <th>val</th>\n",
       "      <th>dur</th>\n",
       "      <th>acous</th>\n",
       "      <th>spch</th>\n",
       "      <th>pop</th>\n",
       "      <th>top year</th>\n",
       "      <th>artist type</th>\n",
       "    </tr>\n",
       "  </thead>\n",
       "  <tbody>\n",
       "    <tr>\n",
       "      <th>0</th>\n",
       "      <td>STARSTRUKK (feat. Katy Perry)</td>\n",
       "      <td>3OH!3</td>\n",
       "      <td>dance pop</td>\n",
       "      <td>2009.0</td>\n",
       "      <td>2022‑02‑17</td>\n",
       "      <td>140.0</td>\n",
       "      <td>81.0</td>\n",
       "      <td>61.0</td>\n",
       "      <td>-6.0</td>\n",
       "      <td>23.0</td>\n",
       "      <td>23.0</td>\n",
       "      <td>203.0</td>\n",
       "      <td>0.0</td>\n",
       "      <td>6.0</td>\n",
       "      <td>70.0</td>\n",
       "      <td>2010.0</td>\n",
       "      <td>Duo</td>\n",
       "    </tr>\n",
       "    <tr>\n",
       "      <th>1</th>\n",
       "      <td>My First Kiss (feat. Ke$ha)</td>\n",
       "      <td>3OH!3</td>\n",
       "      <td>dance pop</td>\n",
       "      <td>2010.0</td>\n",
       "      <td>2022‑02‑17</td>\n",
       "      <td>138.0</td>\n",
       "      <td>89.0</td>\n",
       "      <td>68.0</td>\n",
       "      <td>-4.0</td>\n",
       "      <td>36.0</td>\n",
       "      <td>83.0</td>\n",
       "      <td>192.0</td>\n",
       "      <td>1.0</td>\n",
       "      <td>8.0</td>\n",
       "      <td>68.0</td>\n",
       "      <td>2010.0</td>\n",
       "      <td>Duo</td>\n",
       "    </tr>\n",
       "    <tr>\n",
       "      <th>2</th>\n",
       "      <td>I Need A Dollar</td>\n",
       "      <td>Aloe Blacc</td>\n",
       "      <td>pop soul</td>\n",
       "      <td>2010.0</td>\n",
       "      <td>2022‑02‑17</td>\n",
       "      <td>95.0</td>\n",
       "      <td>48.0</td>\n",
       "      <td>84.0</td>\n",
       "      <td>-7.0</td>\n",
       "      <td>9.0</td>\n",
       "      <td>96.0</td>\n",
       "      <td>243.0</td>\n",
       "      <td>20.0</td>\n",
       "      <td>3.0</td>\n",
       "      <td>72.0</td>\n",
       "      <td>2010.0</td>\n",
       "      <td>Solo</td>\n",
       "    </tr>\n",
       "    <tr>\n",
       "      <th>3</th>\n",
       "      <td>Airplanes (feat. Hayley Williams of Paramore)</td>\n",
       "      <td>B.o.B</td>\n",
       "      <td>atl hip hop</td>\n",
       "      <td>2010.0</td>\n",
       "      <td>2022‑02‑17</td>\n",
       "      <td>93.0</td>\n",
       "      <td>87.0</td>\n",
       "      <td>66.0</td>\n",
       "      <td>-4.0</td>\n",
       "      <td>4.0</td>\n",
       "      <td>38.0</td>\n",
       "      <td>180.0</td>\n",
       "      <td>11.0</td>\n",
       "      <td>12.0</td>\n",
       "      <td>80.0</td>\n",
       "      <td>2010.0</td>\n",
       "      <td>Solo</td>\n",
       "    </tr>\n",
       "    <tr>\n",
       "      <th>4</th>\n",
       "      <td>Nothin' on You (feat. Bruno Mars)</td>\n",
       "      <td>B.o.B</td>\n",
       "      <td>atl hip hop</td>\n",
       "      <td>2010.0</td>\n",
       "      <td>2022‑02‑17</td>\n",
       "      <td>104.0</td>\n",
       "      <td>85.0</td>\n",
       "      <td>69.0</td>\n",
       "      <td>-6.0</td>\n",
       "      <td>9.0</td>\n",
       "      <td>74.0</td>\n",
       "      <td>268.0</td>\n",
       "      <td>39.0</td>\n",
       "      <td>5.0</td>\n",
       "      <td>79.0</td>\n",
       "      <td>2010.0</td>\n",
       "      <td>Solo</td>\n",
       "    </tr>\n",
       "  </tbody>\n",
       "</table>\n",
       "</div>"
      ],
      "text/plain": [
       "                                           title      artist    top genre  \\\n",
       "0                  STARSTRUKK (feat. Katy Perry)       3OH!3    dance pop   \n",
       "1                    My First Kiss (feat. Ke$ha)       3OH!3    dance pop   \n",
       "2                                I Need A Dollar  Aloe Blacc     pop soul   \n",
       "3  Airplanes (feat. Hayley Williams of Paramore)       B.o.B  atl hip hop   \n",
       "4              Nothin' on You (feat. Bruno Mars)       B.o.B  atl hip hop   \n",
       "\n",
       "   year released       added    bpm  nrgy  dnce   dB  live   val    dur  \\\n",
       "0         2009.0  2022‑02‑17  140.0  81.0  61.0 -6.0  23.0  23.0  203.0   \n",
       "1         2010.0  2022‑02‑17  138.0  89.0  68.0 -4.0  36.0  83.0  192.0   \n",
       "2         2010.0  2022‑02‑17   95.0  48.0  84.0 -7.0   9.0  96.0  243.0   \n",
       "3         2010.0  2022‑02‑17   93.0  87.0  66.0 -4.0   4.0  38.0  180.0   \n",
       "4         2010.0  2022‑02‑17  104.0  85.0  69.0 -6.0   9.0  74.0  268.0   \n",
       "\n",
       "   acous  spch   pop  top year artist type  \n",
       "0    0.0   6.0  70.0    2010.0         Duo  \n",
       "1    1.0   8.0  68.0    2010.0         Duo  \n",
       "2   20.0   3.0  72.0    2010.0        Solo  \n",
       "3   11.0  12.0  80.0    2010.0        Solo  \n",
       "4   39.0   5.0  79.0    2010.0        Solo  "
      ]
     },
     "execution_count": 6,
     "metadata": {},
     "output_type": "execute_result"
    }
   ],
   "source": [
    "data3.head()"
   ]
  },
  {
   "cell_type": "code",
   "execution_count": 7,
   "id": "b7402f88-de1e-41da-80bb-2e027a7330a2",
   "metadata": {},
   "outputs": [],
   "source": [
    "data3 = data3.iloc[:-3]\n",
    "# the last 3 rows were NaNs "
   ]
  },
  {
   "cell_type": "code",
   "execution_count": 8,
   "id": "6fe99498-2bb4-41f2-8419-fa665f25cfec",
   "metadata": {},
   "outputs": [],
   "source": [
    "data3['year released'] = data3['year released'].astype(int)\n",
    "data3['top year'] = data3['top year'].astype(int)\n",
    "# Converting them to ints as they were floats previously"
   ]
  },
  {
   "cell_type": "code",
   "execution_count": 9,
   "id": "ed655ca6-6571-4b4a-9c4c-b1faf3e2feb8",
   "metadata": {},
   "outputs": [],
   "source": [
    "genre_mapping = {\n",
    "    'pop': [\n",
    "        'pop', 'pop soul', 'bedroom pop', 'colombian pop', 'acoustic pop', 'indie pop', 'art pop', 'baroque pop', \n",
    "        'austrian pop', 'irish pop', 'french indie pop', 'german pop', 'canadian pop', 'danish pop', 'social media pop',\n",
    "        'bubblegum dance', 'candy pop', 'barbadian pop', 'israeli pop', 'belgian pop', 'australian pop', \n",
    "    ],\n",
    "    'hip hop': [\n",
    "        'hip hop', 'atl hip hop', 'detroit hip hop', 'asian american hip hop', 'east coast hip hop', 'canadian hip hop', \n",
    "        'uk hip hop', 'conscious hip hop', 'gangster rap', 'australian hip hop', 'new jersey rap', 'ghanaian hip hop', \n",
    "        'melodic rap', 'chicago rap', 'london rap', 'florida rap', 'emo rap', 'kentucky hip hop', 'dfw rap', \n",
    "        'hawaiian hip hop', 'dirty south rap', 'memphis hip hop', 'north carolina hip hop', 'nyc rap', 'uk drill', \n",
    "        'lgbtq+ hip hop', 'dutch hip hop','argentine hip hop','ohio hip hop'\n",
    "    ],\n",
    "    'rock': [\n",
    "        'modern alternative rock', 'indie rock', 'garage rock', 'alternative rock', 'classic rock', 'celtic rock',\n",
    "        'alternative metal', 'modern rock'\n",
    "    ],\n",
    "    'r&b': ['alternative r&b', 'contemporary r&b', 'neo soul', 'canadian contemporary r&b'],\n",
    "    'electronic': [\n",
    "        'edm', 'big room', 'disco house', 'romanian house', 'deep house', 'bass trap', 'electro', 'deep disco house', 'bubblegum dance',\n",
    "        'electropop', 'destroy techno', 'complextro', 'electro house','house'\n",
    "    ],\n",
    "    'rap': ['rap', 'comedy rap', 'cali rap', 'social media pop', 'alt z'],\n",
    "    'indie': [\n",
    "        'indietronica', 'aussietronica', 'icelandic indie', 'canadian indie', 'indie folk', 'eau claire indie', 'indie poptimism', \n",
    "        'indie pop rap', 'australian indie', 'la indie', 'new french touch'\n",
    "    ],\n",
    "    'dance': [\n",
    "        'dance pop', 'modern folk rock', 'dancefloor dnb', 'alternative dance', 'downtempo', 'tropical house', 'chill pop'\n",
    "    ],\n",
    "    'folk': ['neo mellow', 'folk-pop', 'modern folk rock'],\n",
    "    'house': ['deep groove house', 'dutch house', 'tropical house'],\n",
    "    'soul': ['british soul', 'pop soul'],\n",
    "    'country': ['contemporary country', 'boy band'],\n",
    "    'latin': ['latin'],\n",
    "    'grime': ['grime', 'afroswing'],\n",
    "    'afrofuturism': ['afrofuturism', 'afro dancehall'],\n",
    "    'dark clubbing': ['dark clubbing'],\n",
    "    'reggae fusion': ['reggae fusion'],\n",
    "    'comic': ['comic'],\n",
    "    'black americana': ['black americana'],\n",
    "    'idol': ['idol'],\n",
    "    'talent show': ['talent show'],\n",
    "    'hollywood': ['hollywood']\n",
    "}\n",
    "# the goal is to reduce the number of genres and justifiably inflate the size of parent genres"
   ]
  },
  {
   "cell_type": "code",
   "execution_count": 10,
   "id": "a92ae5e6-6c20-4b29-9021-9eb6f198ad0a",
   "metadata": {},
   "outputs": [],
   "source": [
    "def replace_genres(genre, mapping):\n",
    "    for key, values in mapping.items():\n",
    "        if genre in values:\n",
    "            return key\n",
    "    return genre  \n",
    "\n",
    "data3['top genre'] = data3['top genre'].apply(lambda x: replace_genres(x, genre_mapping))\n",
    "\n",
    "# mapping of genres"
   ]
  },
  {
   "cell_type": "code",
   "execution_count": 11,
   "id": "51634d14-3007-4a4a-ae46-10bc8df076fc",
   "metadata": {},
   "outputs": [
    {
     "name": "stdout",
     "output_type": "stream",
     "text": [
      "['dance' 'pop' 'hip hop' 'pop rap' 'electronic' 'lilith' 'folk'\n",
      " 'reggae fusion' 'idol' 'talent show' 'rock' 'indie' 'grime' 'house'\n",
      " 'country' 'australian dance' 'soul' 'permanent wave' 'hip pop' 'g funk'\n",
      " 'french shoegaze' 'r&b' 'k-pop' 'brostep' 'metropopolis' 'emo'\n",
      " 'adult standards' 'comic' 'irish singer-songwriter' 'san diego rap'\n",
      " 'australian psych' 'rap' 'latin' 'basshall' 'hollywood' 'afrofuturism'\n",
      " 'black americana' 'alternative pop rock' 'dark clubbing']\n"
     ]
    }
   ],
   "source": [
    "print(data3['top genre'].unique())"
   ]
  },
  {
   "cell_type": "code",
   "execution_count": 12,
   "id": "5a681cd0-fa0d-4b44-9716-c26c6dfba93d",
   "metadata": {},
   "outputs": [],
   "source": [
    "genre_counts = data3['top genre'].value_counts()\n",
    "\n",
    "# getting the valid genres with equal to or more than 10 songs\n",
    "valid_genres = genre_counts[genre_counts >= 10].index\n",
    "\n",
    "# filtering those out with less than 10 songs\n",
    "filtered_data = data3[data3['top genre'].isin(valid_genres)]"
   ]
  },
  {
   "cell_type": "code",
   "execution_count": 13,
   "id": "c6191654-b44f-4b8a-a443-03482c962082",
   "metadata": {},
   "outputs": [
    {
     "name": "stdout",
     "output_type": "stream",
     "text": [
      "top genre\n",
      "dance         373\n",
      "hip hop       180\n",
      "pop           152\n",
      "electronic     53\n",
      "rock           39\n",
      "country        35\n",
      "indie          23\n",
      "folk           19\n",
      "r&b            18\n",
      "rap            14\n",
      "grime          10\n",
      "latin          10\n",
      "Name: count, dtype: int64\n"
     ]
    }
   ],
   "source": [
    "genre_counts = filtered_data['top genre'].value_counts()\n",
    "print(genre_counts)"
   ]
  },
  {
   "cell_type": "code",
   "execution_count": 18,
   "id": "b26cc50d-4fe6-419f-ad9e-0c83a7f8be7e",
   "metadata": {},
   "outputs": [
    {
     "name": "stderr",
     "output_type": "stream",
     "text": [
      "/var/folders/5d/08v816wn261ctmm7jzly1z6w0000gn/T/ipykernel_57895/1252915342.py:1: SettingWithCopyWarning: \n",
      "A value is trying to be set on a copy of a slice from a DataFrame\n",
      "\n",
      "See the caveats in the documentation: https://pandas.pydata.org/pandas-docs/stable/user_guide/indexing.html#returning-a-view-versus-a-copy\n",
      "  filtered_data.rename(columns={\"top genre\": \"top-genre\"}, inplace=True)\n"
     ]
    }
   ],
   "source": [
    "filtered_data.rename(columns={\"top genre\": \"top-genre\"}, inplace=True)"
   ]
  },
  {
   "cell_type": "code",
   "execution_count": 16,
   "id": "498ca8b3-89d0-4ad1-9c53-c43b109d6748",
   "metadata": {},
   "outputs": [
    {
     "data": {
      "image/png": "[encoded data removed]",
      "text/plain": [
       "<Figure size 1000x600 with 1 Axes>"
      ]
     },
     "metadata": {},
     "output_type": "display_data"
    }
   ],
   "source": [
    "\n",
    "genre_popularity = data3.groupby('top genre')['pop'].sum().sort_values(ascending=False)\n",
    "\n",
    "plt.figure(figsize=(10, 6))\n",
    "genre_popularity.head(10).plot(kind='bar', color='skyblue')\n",
    "\n",
    "\n",
    "plt.title('Top 10 Most Popular Genres', fontsize=16)\n",
    "plt.xlabel('Genre', fontsize=12)\n",
    "plt.ylabel('Sum of Popularity', fontsize=12)\n",
    "\n",
    "\n",
    "plt.xticks(rotation=45, ha='right')\n",
    "\n",
    "# Show the plot\n",
    "plt.tight_layout()\n",
    "plt.show()"
   ]
  },
  {
   "cell_type": "code",
   "execution_count": 24,
   "id": "657055b0",
   "metadata": {},
   "outputs": [
    {
     "name": "stdout",
     "output_type": "stream",
     "text": [
      "Range of 'pop' column: 60.0\n",
      "pop max is: 95.0\n",
      "pop min is: 35.0\n"
     ]
    },
    {
     "data": {
      "image/png": "[encoded data removed]",
      "text/plain": [
       "<Figure size 640x480 with 1 Axes>"
      ]
     },
     "metadata": {},
     "output_type": "display_data"
    }
   ],
   "source": [
    "pop_range = data3['pop'].max() - data3['pop'].min()\n",
    "\n",
    "# Output the range\n",
    "print(\"Range of 'pop' column:\", pop_range)\n",
    "\n",
    "pop_max = data3['pop'].max()\n",
    "pop_min = data3['pop'].min()\n",
    "\n",
    "print (\"pop max is:\", pop_max)\n",
    "print (\"pop min is:\", pop_min)\n",
    "\n",
    "# \n",
    "\n",
    "\n",
    "\n",
    "# Define the number of bins (optional: adjust based on how granular you want the bins)\n",
    "num_bins = 20\n",
    "\n",
    "# Create the histogram\n",
    "plt.hist(data3['pop'], bins=np.linspace(pop_min, pop_max, num_bins), edgecolor='black')\n",
    "\n",
    "# Adding titles and labels\n",
    "plt.title('Frequency of Popularity Numbers')\n",
    "plt.xlabel('Popularity')\n",
    "plt.ylabel('Frequency')\n",
    "\n",
    "# Display the graph\n",
    "plt.show()\n"
   ]
  },
  {
   "cell_type": "markdown",
   "id": "7a15f27d-76c1-4882-add2-01001b325483",
   "metadata": {},
   "source": [
    "## This is a candidate. \n",
    "The reason behind the summation of popularity is that average popularity can be misleading. A niche genre might have just a few songs yet its popularity might be high, and graphing the average will artificially inflate its popularity. "
   ]
  },
  {
   "cell_type": "code",
   "execution_count": null,
   "id": "50d58d4b-31ec-459b-b5a3-72129716f19d",
   "metadata": {},
   "outputs": [],
   "source": [
    "\n",
    "specific_genres = ['dance', 'hip hop', 'pop', 'electronic', 'rock', 'country', 'indie', 'folk', 'r&b', 'rap']\n",
    "\n",
    "\n",
    "filtered_data = data3[data3['top genre'].isin(specific_genres)]\n",
    "\n",
    "average_popularity = filtered_data.groupby('top genre')['pop'].mean().sort_values(ascending=False)\n",
    "\n",
    "plt.figure(figsize=(10, 6))\n",
    "average_popularity.plot(kind='bar', color='lightgreen')\n",
    "\n",
    "plt.title('Average Popularity for Specified Genres', fontsize=16)\n",
    "plt.xlabel('Genre', fontsize=12)\n",
    "plt.ylabel('Average Popularity', fontsize=12)\n",
    "\n",
    "plt.xticks(rotation=45, ha='right')\n",
    "\n",
    "plt.tight_layout()\n",
    "plt.show()"
   ]
  },
  {
   "cell_type": "code",
   "execution_count": null,
   "id": "d771a087-5fdc-4209-9a08-4cc852b23704",
   "metadata": {},
   "outputs": [],
   "source": [
    "\n",
    "genre_popularity = data3.groupby('artist')['pop'].sum().sort_values(ascending=False)\n",
    "\n",
    "plt.figure(figsize=(10, 6))\n",
    "genre_popularity.head(10).plot(kind='bar', color='skyblue')\n",
    "\n",
    "\n",
    "plt.title('Top 10 Most Popular Artists', fontsize=16)\n",
    "plt.xlabel('Genre', fontsize=12)\n",
    "plt.ylabel('Sum of Popularity', fontsize=12)\n",
    "\n",
    "\n",
    "plt.xticks(rotation=45, ha='right')\n",
    "\n",
    "# Show the plot\n",
    "plt.tight_layout()\n",
    "plt.show()"
   ]
  },
  {
   "cell_type": "code",
   "execution_count": null,
   "id": "ea32e3f1-b2cc-47cc-93d3-bda0f943f04d",
   "metadata": {},
   "outputs": [],
   "source": [
    "data3.to_csv(current_path + '/filtered.csv') "
   ]
  },
  {
   "cell_type": "markdown",
   "id": "d2116e96-0d79-42f0-b85b-51fb4d468140",
   "metadata": {},
   "source": [
    "## Perhaps we can color code the barchart above by genres."
   ]
  }
 ],
 "metadata": {
  "kernelspec": {
   "display_name": "Python 3 (ipykernel)",
   "language": "python",
   "name": "python3"
  },
  "language_info": {
   "codemirror_mode": {
    "name": "ipython",
    "version": 3
   },
   "file_extension": ".py",
   "mimetype": "text/x-python",
   "name": "python",
   "nbconvert_exporter": "python",
   "pygments_lexer": "ipython3",
   "version": "3.11.4"
  }
 },
 "nbformat": 4,
 "nbformat_minor": 5
}
